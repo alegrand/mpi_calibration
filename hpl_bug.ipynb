{
 "cells": [
  {
   "cell_type": "markdown",
   "metadata": {},
   "source": [
    "## Reservation & deployment"
   ]
  },
  {
   "cell_type": "code",
   "execution_count": 1,
   "metadata": {},
   "outputs": [],
   "source": [
    "from fabfile import *\n",
    "from real_hpl import *"
   ]
  },
  {
   "cell_type": "code",
   "execution_count": 2,
   "metadata": {},
   "outputs": [
    {
     "name": "stderr",
     "output_type": "stream",
     "text": [
      "\u001b[32m[2018-07-23 10:55:46][INFO] \u001b[37m[frontend | /home/tocornebize] oarsub -n \"☕\" -q testing -t deploy  -l \"{cluster in ('dahu')}/nodes=4,walltime=04:00:00\" -r \"2018-07-23 10:55:46\"\u001b[0m\n",
      "\u001b[32m[2018-07-23 10:55:48][INFO] \u001b[37m[frontend | /home/tocornebize] oarsub -n \"🥐\" -q production -t deploy  -l \"{cluster in ('grvingt')}/nodes=4,walltime=04:00:00\" -r \"2018-07-23 10:55:48\"\u001b[0m\n",
      "\u001b[32m[2018-07-23 10:56:13][INFO] \u001b[37m[frontend | /home/tocornebize] oarstat -fJ -j 1806467\u001b[0m\n",
      "\u001b[32m[2018-07-23 10:56:13][INFO] \u001b[37m[frontend | /home/tocornebize] oarstat -fJ -j 1619955\u001b[0m\n"
     ]
    },
    {
     "name": "stdout",
     "output_type": "stream",
     "text": [
      "['dahu-6.grenoble.grid5000.fr', 'dahu-7.grenoble.grid5000.fr', 'dahu-8.grenoble.grid5000.fr', 'dahu-9.grenoble.grid5000.fr']\n"
     ]
    },
    {
     "name": "stderr",
     "output_type": "stream",
     "text": [
      "\u001b[32m[2018-07-23 10:56:19][INFO] \u001b[37m[frontend | /home/tocornebize] oarstat -fJ -j 1619955\u001b[0m\n",
      "\u001b[32m[2018-07-23 10:56:31][INFO] \u001b[37m[frontend | /home/tocornebize] oarstat -fJ -j 1619955\u001b[0m\n",
      "\u001b[32m[2018-07-23 10:56:52][INFO] \u001b[37m[frontend | /home/tocornebize] oarstat -fJ -j 1619955\u001b[0m\n",
      "\u001b[32m[2018-07-23 10:57:36][INFO] \u001b[37m[frontend | /home/tocornebize] oarstat -fJ -j 1619955\u001b[0m\n"
     ]
    },
    {
     "name": "stdout",
     "output_type": "stream",
     "text": [
      "['grvingt-5.nancy.grid5000.fr', 'grvingt-6.nancy.grid5000.fr', 'grvingt-7.nancy.grid5000.fr', 'grvingt-8.nancy.grid5000.fr']\n"
     ]
    }
   ],
   "source": [
    "nb_nodes = 4\n",
    "dahu = Job.oarsub_cluster(site='grenoble', username='tocornebize', clusters=['dahu'],    walltime=Time(hours=4), nb_nodes=nb_nodes, deploy='debian9-x64-base', queue='testing')\n",
    "gr20 = Job.oarsub_cluster(site='nancy',    username='tocornebize', clusters=['grvingt'], walltime=Time(hours=4), nb_nodes=nb_nodes, deploy='debian9-x64-base', queue='production')\n",
    "\n",
    "alljobs = [dahu, gr20]\n",
    "for job in alljobs:\n",
    "    print(job.hostnames)\n",
    "    if len(job.hostnames) != nb_nodes:\n",
    "        logger.critical('Bad number of nodes')"
   ]
  },
  {
   "cell_type": "code",
   "execution_count": 3,
   "metadata": {},
   "outputs": [
    {
     "name": "stderr",
     "output_type": "stream",
     "text": [
      "\u001b[32m[2018-07-23 10:57:36][INFO] \u001b[37m[frontend | /home/tocornebize] kadeploy3 -k -f /var/lib/oar/1806467 -e debian9-x64-base\u001b[0m\n",
      "\u001b[32m[2018-07-23 11:01:03][INFO] \u001b[37m[frontend | /home/tocornebize] kadeploy3 -k -f /var/lib/oar/1619955 -e debian9-x64-base\u001b[0m\n"
     ]
    }
   ],
   "source": [
    "for job in alljobs:\n",
    "    job.kadeploy(job.deploy)"
   ]
  },
  {
   "cell_type": "code",
   "execution_count": 4,
   "metadata": {},
   "outputs": [
    {
     "name": "stderr",
     "output_type": "stream",
     "text": [
      "\u001b[32m[2018-07-23 11:04:56][INFO] \u001b[37m[allnodes | /tmp] echo \"hello world\"\u001b[0m\n",
      "\u001b[32m[2018-07-23 11:04:57][INFO] \u001b[37m[allnodes | /tmp] apt update && DEBIAN_FRONTEND=noninteractive apt upgrade -yq\u001b[0m\n",
      "\u001b[32m[2018-07-23 11:05:48][INFO] \u001b[37m[allnodes | /tmp] DEBIAN_FRONTEND=noninteractive apt install -y build-essential zip make git time hwloc pciutils cmake cpufrequtils linux-cpupower openmpi-bin libopenmpi-dev net-tools\u001b[0m\n",
      "\u001b[32m[2018-07-23 11:06:17][INFO] \u001b[37m[allnodes | /tmp] wget https://github.com/xianyi/OpenBLAS/archive/v0.3.1.zip -O openblas.zip\u001b[0m\n",
      "\u001b[32m[2018-07-23 11:06:43][INFO] \u001b[37m[allnodes | /tmp] unzip openblas.zip && mv OpenBLAS-* openblas\u001b[0m\n",
      "\u001b[32m[2018-07-23 11:06:48][INFO] \u001b[37m[allnodes | /tmp/openblas] make -j 64\u001b[0m\n",
      "\u001b[32m[2018-07-23 11:06:56][INFO] \u001b[37m[allnodes | /tmp/openblas] make install PREFIX=/tmp\u001b[0m\n",
      "\u001b[32m[2018-07-23 11:06:57][INFO] \u001b[37m[allnodes | /tmp] wget http://www.netlib.org/benchmark/hpl/hpl-2.2.tar.gz\u001b[0m\n",
      "\u001b[32m[2018-07-23 11:06:59][INFO] \u001b[37m[allnodes | /tmp] tar -xvf hpl-2.2.tar.gz\u001b[0m\n",
      "\u001b[32m[2018-07-23 11:06:59][INFO] \u001b[37m[allnodes] put: /home/tom/Dropbox/Documents/Fac/phd/mpi_calibration/tmp6xy2nqhu → /tmp/hpl-2.2/Make.Debian\u001b[0m\n",
      "\u001b[32m[2018-07-23 11:07:00][INFO] \u001b[37m[allnodes | /tmp/hpl-2.2] make startup arch=Debian\u001b[0m\n",
      "\u001b[32m[2018-07-23 11:07:01][INFO] \u001b[37m[allnodes | /tmp/hpl-2.2] LD_LIBRARY_PATH=/tmp/lib make -j 64 arch=Debian\u001b[0m\n",
      "\u001b[32m[2018-07-23 11:07:11][INFO] \u001b[37m[allnodes | /tmp] echo \"hello world\"\u001b[0m\n",
      "\u001b[32m[2018-07-23 11:07:12][INFO] \u001b[37m[allnodes | /tmp] apt update && DEBIAN_FRONTEND=noninteractive apt upgrade -yq\u001b[0m\n",
      "\u001b[32m[2018-07-23 11:08:50][INFO] \u001b[37m[allnodes | /tmp] DEBIAN_FRONTEND=noninteractive apt install -y build-essential zip make git time hwloc pciutils cmake cpufrequtils linux-cpupower openmpi-bin libopenmpi-dev net-tools\u001b[0m\n",
      "\u001b[32m[2018-07-23 11:09:56][INFO] \u001b[37m[allnodes | /tmp] wget https://github.com/xianyi/OpenBLAS/archive/v0.3.1.zip -O openblas.zip\u001b[0m\n",
      "\u001b[32m[2018-07-23 11:10:26][INFO] \u001b[37m[allnodes | /tmp] unzip openblas.zip && mv OpenBLAS-* openblas\u001b[0m\n",
      "\u001b[32m[2018-07-23 11:10:32][INFO] \u001b[37m[allnodes | /tmp/openblas] make -j 64\u001b[0m\n",
      "\u001b[32m[2018-07-23 11:10:43][INFO] \u001b[37m[allnodes | /tmp/openblas] make install PREFIX=/tmp\u001b[0m\n",
      "\u001b[32m[2018-07-23 11:10:44][INFO] \u001b[37m[allnodes | /tmp] wget http://www.netlib.org/benchmark/hpl/hpl-2.2.tar.gz\u001b[0m\n",
      "\u001b[32m[2018-07-23 11:10:45][INFO] \u001b[37m[allnodes | /tmp] tar -xvf hpl-2.2.tar.gz\u001b[0m\n",
      "\u001b[32m[2018-07-23 11:10:45][INFO] \u001b[37m[allnodes] put: /home/tom/Dropbox/Documents/Fac/phd/mpi_calibration/tmph94ownj9 → /tmp/hpl-2.2/Make.Debian\u001b[0m\n",
      "\u001b[32m[2018-07-23 11:10:46][INFO] \u001b[37m[allnodes | /tmp/hpl-2.2] make startup arch=Debian\u001b[0m\n",
      "\u001b[32m[2018-07-23 11:10:46][INFO] \u001b[37m[allnodes | /tmp/hpl-2.2] LD_LIBRARY_PATH=/tmp/lib make -j 64 arch=Debian\u001b[0m\n"
     ]
    }
   ],
   "source": [
    "for job in alljobs:\n",
    "    install(job)"
   ]
  },
  {
   "cell_type": "markdown",
   "metadata": {},
   "source": [
    "## Performance tuning, estimation of the peak\n",
    "\n",
    "We disable the hyperthreading and the DVFS."
   ]
  },
  {
   "cell_type": "code",
   "execution_count": 5,
   "metadata": {},
   "outputs": [
    {
     "name": "stderr",
     "output_type": "stream",
     "text": [
      "\u001b[32m[2018-07-23 11:11:37][INFO] \u001b[37m[allnodes | /tmp] lstopo topology.xml && cat topology.xml\u001b[0m\n",
      "\u001b[32m[2018-07-23 11:11:38][INFO] \u001b[37m[allnodes | /tmp] echo -n '0' | tee /sys/devices/system/cpu/cpu32/online /sys/devices/system/cpu/cpu34/online /sys/devices/system/cpu/cpu36/online /sys/devices/system/cpu/cpu38/online /sys/devices/system/cpu/cpu40/online /sys/devices/system/cpu/cpu42/online /sys/devices/system/cpu/cpu44/online /sys/devices/system/cpu/cpu46/online /sys/devices/system/cpu/cpu48/online /sys/devices/system/cpu/cpu50/online /sys/devices/system/cpu/cpu52/online /sys/devices/system/cpu/cpu54/online /sys/devices/system/cpu/cpu56/online /sys/devices/system/cpu/cpu58/online /sys/devices/system/cpu/cpu60/online /sys/devices/system/cpu/cpu62/online /sys/devices/system/cpu/cpu33/online /sys/devices/system/cpu/cpu35/online /sys/devices/system/cpu/cpu37/online /sys/devices/system/cpu/cpu39/online /sys/devices/system/cpu/cpu41/online /sys/devices/system/cpu/cpu43/online /sys/devices/system/cpu/cpu45/online /sys/devices/system/cpu/cpu47/online /sys/devices/system/cpu/cpu49/online /sys/devices/system/cpu/cpu51/online /sys/devices/system/cpu/cpu53/online /sys/devices/system/cpu/cpu55/online /sys/devices/system/cpu/cpu57/online /sys/devices/system/cpu/cpu59/online /sys/devices/system/cpu/cpu61/online /sys/devices/system/cpu/cpu63/online\u001b[0m\n",
      "\u001b[32m[2018-07-23 11:11:43][INFO] \u001b[37m[allnodes | /tmp] lstopo topology.xml && cat topology.xml\u001b[0m\n",
      "\u001b[32m[2018-07-23 11:11:43][INFO] \u001b[37m[allnodes | /tmp] echo -n '0' | tee /sys/devices/system/cpu/cpu32/online /sys/devices/system/cpu/cpu34/online /sys/devices/system/cpu/cpu36/online /sys/devices/system/cpu/cpu38/online /sys/devices/system/cpu/cpu40/online /sys/devices/system/cpu/cpu42/online /sys/devices/system/cpu/cpu44/online /sys/devices/system/cpu/cpu46/online /sys/devices/system/cpu/cpu48/online /sys/devices/system/cpu/cpu50/online /sys/devices/system/cpu/cpu52/online /sys/devices/system/cpu/cpu54/online /sys/devices/system/cpu/cpu56/online /sys/devices/system/cpu/cpu58/online /sys/devices/system/cpu/cpu60/online /sys/devices/system/cpu/cpu62/online /sys/devices/system/cpu/cpu33/online /sys/devices/system/cpu/cpu35/online /sys/devices/system/cpu/cpu37/online /sys/devices/system/cpu/cpu39/online /sys/devices/system/cpu/cpu41/online /sys/devices/system/cpu/cpu43/online /sys/devices/system/cpu/cpu45/online /sys/devices/system/cpu/cpu47/online /sys/devices/system/cpu/cpu49/online /sys/devices/system/cpu/cpu51/online /sys/devices/system/cpu/cpu53/online /sys/devices/system/cpu/cpu55/online /sys/devices/system/cpu/cpu57/online /sys/devices/system/cpu/cpu59/online /sys/devices/system/cpu/cpu61/online /sys/devices/system/cpu/cpu63/online\u001b[0m\n"
     ]
    }
   ],
   "source": [
    "for job in alljobs:\n",
    "    job.nodes.disable_hyperthreading()\n",
    "#job.nodes.set_frequency_performance() # ← fail on Dahu, no cpufreq driver\n",
    "#print(job.nodes.frequency_information)\n",
    "#print(job.nodes.current_frequency_information)"
   ]
  },
  {
   "cell_type": "code",
   "execution_count": 6,
   "metadata": {},
   "outputs": [
    {
     "name": "stderr",
     "output_type": "stream",
     "text": [
      "\u001b[32m[2018-07-23 11:11:52][INFO] \u001b[37m[allnodes | /tmp] OMP_NUM_THREADS=32 LD_LIBRARY_PATH=/tmp/lib ./dgemm_test 8192 8192 8192 8192 8192 8192 \u001b[0m\n",
      "\u001b[32m[2018-07-23 11:11:52][INFO] \u001b[37m[allnodes | /tmp] wget https://raw.githubusercontent.com/Ezibenroc/m2_internship_scripts/master/cblas_tests/dgemm_test.c\u001b[0m\n",
      "\u001b[32m[2018-07-23 11:11:53][INFO] \u001b[37m[allnodes | /tmp] LD_LIBRARY_PATH=/tmp/lib gcc -DUSE_OPENBLAS ./dgemm_test.c -fopenmp -I /tmp/include                 /tmp/lib/libopenblas.so -O3 -o ./dgemm_test\u001b[0m\n",
      "\u001b[32m[2018-07-23 11:11:53][INFO] \u001b[37m[allnodes | /tmp] OMP_NUM_THREADS=32 LD_LIBRARY_PATH=/tmp/lib ./dgemm_test 8192 8192 8192 8192 8192 8192 \u001b[0m\n",
      "\u001b[32m[2018-07-23 11:11:57][INFO] \u001b[37m[allnodes | /tmp] OMP_NUM_THREADS=32 LD_LIBRARY_PATH=/tmp/lib ./dgemm_test 8192 8192 8192 8192 8192 8192 \u001b[0m\n",
      "\u001b[32m[2018-07-23 11:12:01][INFO] \u001b[37m[allnodes | /tmp] OMP_NUM_THREADS=32 LD_LIBRARY_PATH=/tmp/lib ./dgemm_test 8192 8192 8192 8192 8192 8192 \u001b[0m\n",
      "\u001b[32m[2018-07-23 11:12:05][INFO] \u001b[37m[allnodes | /tmp] OMP_NUM_THREADS=32 LD_LIBRARY_PATH=/tmp/lib ./dgemm_test 8192 8192 8192 8192 8192 8192 \u001b[0m\n",
      "\u001b[32m[2018-07-23 11:12:09][INFO] \u001b[37m[allnodes | /tmp] OMP_NUM_THREADS=32 LD_LIBRARY_PATH=/tmp/lib ./dgemm_test 8192 8192 8192 8192 8192 8192 \u001b[0m\n",
      "\u001b[32m[2018-07-23 11:12:12][INFO] \u001b[37m[allnodes | /tmp] OMP_NUM_THREADS=32 LD_LIBRARY_PATH=/tmp/lib ./dgemm_test 8192 8192 8192 8192 8192 8192 \u001b[0m\n",
      "\u001b[32m[2018-07-23 11:12:16][INFO] \u001b[37m[allnodes | /tmp] OMP_NUM_THREADS=32 LD_LIBRARY_PATH=/tmp/lib ./dgemm_test 8192 8192 8192 8192 8192 8192 \u001b[0m\n",
      "\u001b[32m[2018-07-23 11:12:20][INFO] \u001b[37m[allnodes | /tmp] OMP_NUM_THREADS=32 LD_LIBRARY_PATH=/tmp/lib ./dgemm_test 8192 8192 8192 8192 8192 8192 \u001b[0m\n",
      "\u001b[32m[2018-07-23 11:12:24][INFO] \u001b[37m[allnodes | /tmp] OMP_NUM_THREADS=32 LD_LIBRARY_PATH=/tmp/lib ./dgemm_test 8192 8192 8192 8192 8192 8192 \u001b[0m\n",
      "\u001b[32m[2018-07-23 11:12:28][INFO] \u001b[37m[allnodes | /tmp] OMP_NUM_THREADS=32 LD_LIBRARY_PATH=/tmp/lib ./dgemm_test 8192 8192 8192 8192 8192 8192 \u001b[0m\n",
      "\u001b[32m[2018-07-23 11:12:32][INFO] \u001b[37m[allnodes | /tmp] OMP_NUM_THREADS=32 LD_LIBRARY_PATH=/tmp/lib ./dgemm_test 8192 8192 8192 8192 8192 8192 \u001b[0m\n",
      "\u001b[32m[2018-07-23 11:12:32][INFO] \u001b[37m[allnodes | /tmp] wget https://raw.githubusercontent.com/Ezibenroc/m2_internship_scripts/master/cblas_tests/dgemm_test.c\u001b[0m\n"
     ]
    },
    {
     "name": "stdout",
     "output_type": "stream",
     "text": [
      "3440.4337241631783\n",
      "3419.637287371654\n",
      "3412.8907622412216\n",
      "3420.78499986291\n",
      "3450.7596890995887\n",
      "3463.428170821014\n",
      "3431.4821949369093\n",
      "3388.4932349673063\n",
      "3378.4588613835463\n",
      "3434.430790935229\n"
     ]
    },
    {
     "name": "stderr",
     "output_type": "stream",
     "text": [
      "\u001b[32m[2018-07-23 11:12:32][INFO] \u001b[37m[allnodes | /tmp] LD_LIBRARY_PATH=/tmp/lib gcc -DUSE_OPENBLAS ./dgemm_test.c -fopenmp -I /tmp/include                 /tmp/lib/libopenblas.so -O3 -o ./dgemm_test\u001b[0m\n",
      "\u001b[32m[2018-07-23 11:12:32][INFO] \u001b[37m[allnodes | /tmp] OMP_NUM_THREADS=32 LD_LIBRARY_PATH=/tmp/lib ./dgemm_test 8192 8192 8192 8192 8192 8192 \u001b[0m\n",
      "\u001b[32m[2018-07-23 11:12:36][INFO] \u001b[37m[allnodes | /tmp] OMP_NUM_THREADS=32 LD_LIBRARY_PATH=/tmp/lib ./dgemm_test 8192 8192 8192 8192 8192 8192 \u001b[0m\n",
      "\u001b[32m[2018-07-23 11:12:40][INFO] \u001b[37m[allnodes | /tmp] OMP_NUM_THREADS=32 LD_LIBRARY_PATH=/tmp/lib ./dgemm_test 8192 8192 8192 8192 8192 8192 \u001b[0m\n",
      "\u001b[32m[2018-07-23 11:12:44][INFO] \u001b[37m[allnodes | /tmp] OMP_NUM_THREADS=32 LD_LIBRARY_PATH=/tmp/lib ./dgemm_test 8192 8192 8192 8192 8192 8192 \u001b[0m\n",
      "\u001b[32m[2018-07-23 11:12:48][INFO] \u001b[37m[allnodes | /tmp] OMP_NUM_THREADS=32 LD_LIBRARY_PATH=/tmp/lib ./dgemm_test 8192 8192 8192 8192 8192 8192 \u001b[0m\n",
      "\u001b[32m[2018-07-23 11:12:51][INFO] \u001b[37m[allnodes | /tmp] OMP_NUM_THREADS=32 LD_LIBRARY_PATH=/tmp/lib ./dgemm_test 8192 8192 8192 8192 8192 8192 \u001b[0m\n",
      "\u001b[32m[2018-07-23 11:12:55][INFO] \u001b[37m[allnodes | /tmp] OMP_NUM_THREADS=32 LD_LIBRARY_PATH=/tmp/lib ./dgemm_test 8192 8192 8192 8192 8192 8192 \u001b[0m\n",
      "\u001b[32m[2018-07-23 11:12:59][INFO] \u001b[37m[allnodes | /tmp] OMP_NUM_THREADS=32 LD_LIBRARY_PATH=/tmp/lib ./dgemm_test 8192 8192 8192 8192 8192 8192 \u001b[0m\n",
      "\u001b[32m[2018-07-23 11:13:03][INFO] \u001b[37m[allnodes | /tmp] OMP_NUM_THREADS=32 LD_LIBRARY_PATH=/tmp/lib ./dgemm_test 8192 8192 8192 8192 8192 8192 \u001b[0m\n",
      "\u001b[32m[2018-07-23 11:13:07][INFO] \u001b[37m[allnodes | /tmp] OMP_NUM_THREADS=32 LD_LIBRARY_PATH=/tmp/lib ./dgemm_test 8192 8192 8192 8192 8192 8192 \u001b[0m\n"
     ]
    },
    {
     "name": "stdout",
     "output_type": "stream",
     "text": [
      "3480.975447658493\n",
      "3444.1009881868017\n",
      "3479.924850208756\n",
      "3464.6274065191783\n",
      "3499.0209039146166\n",
      "3451.9809701369422\n",
      "3502.2524903285625\n",
      "3471.5098882134944\n",
      "3452.5792521703625\n",
      "3513.2944242046865\n"
     ]
    }
   ],
   "source": [
    "for job in alljobs:\n",
    "    gflops = [str(estimate_peak(job)) for _ in range(10)]\n",
    "    print('\\n'.join(gflops))"
   ]
  },
  {
   "cell_type": "markdown",
   "metadata": {},
   "source": [
    "## First (small) HPL run"
   ]
  },
  {
   "cell_type": "code",
   "execution_count": 7,
   "metadata": {},
   "outputs": [
    {
     "name": "stderr",
     "output_type": "stream",
     "text": [
      "\u001b[32m[2018-07-23 11:14:26][INFO] \u001b[37m[director | /root] ssh-keygen -b 2048 -t rsa -f .ssh/id_rsa -q -N \"\"\u001b[0m\n",
      "\u001b[32m[2018-07-23 11:14:26][INFO] \u001b[37m[director] get: /root/.ssh/id_rsa.pub → /home/tom/Dropbox/Documents/Fac/phd/mpi_calibration/tmpxe91z9z7\u001b[0m\n",
      "\u001b[32m[2018-07-23 11:14:26][INFO] \u001b[37m[orchestra] put: /home/tom/Dropbox/Documents/Fac/phd/mpi_calibration/tmpxe91z9z7 → /tmp/id_rsa.pub\u001b[0m\n",
      "\u001b[32m[2018-07-23 11:14:27][INFO] \u001b[37m[orchestra | /root] cat /tmp/id_rsa.pub >> .ssh/authorized_keys\u001b[0m\n",
      "\u001b[32m[2018-07-23 11:14:27][INFO] \u001b[37m[director | /root] ssh -o \"StrictHostKeyChecking no\" dahu-7.grenoble.grid5000.fr hostname\u001b[0m\n",
      "\u001b[32m[2018-07-23 11:14:27][INFO] \u001b[37m[director | /root] ssh -o \"StrictHostKeyChecking no\" dahu-7 hostname\u001b[0m\n",
      "\u001b[32m[2018-07-23 11:14:28][INFO] \u001b[37m[director | /root] ssh -o \"StrictHostKeyChecking no\" dahu-8.grenoble.grid5000.fr hostname\u001b[0m\n",
      "\u001b[32m[2018-07-23 11:14:28][INFO] \u001b[37m[director | /root] ssh -o \"StrictHostKeyChecking no\" dahu-8 hostname\u001b[0m\n",
      "\u001b[32m[2018-07-23 11:14:28][INFO] \u001b[37m[director | /root] ssh -o \"StrictHostKeyChecking no\" dahu-9.grenoble.grid5000.fr hostname\u001b[0m\n",
      "\u001b[32m[2018-07-23 11:14:29][INFO] \u001b[37m[director | /root] ssh -o \"StrictHostKeyChecking no\" dahu-9 hostname\u001b[0m\n",
      "\u001b[32m[2018-07-23 11:14:29][INFO] \u001b[37m[allnodes] put: /home/tom/Dropbox/Documents/Fac/phd/mpi_calibration/tmpfk610ky2 → /tmp/hpl-2.2/bin/Debian/HPL.dat\u001b[0m\n",
      "\u001b[32m[2018-07-23 11:14:30][INFO] \u001b[37m[director | /tmp/hpl-2.2/bin/Debian] mpirun --allow-run-as-root --bind-to none --timestamp-output -np 4 -x OMP_NUM_THREADS=32 -H dahu-6.grenoble.grid5000.fr,dahu-7.grenoble.grid5000.fr,dahu-8.grenoble.grid5000.fr,dahu-9.grenoble.grid5000.fr -x LD_LIBRARY_PATH=/tmp/lib ./xhpl\u001b[0m\n",
      "\u001b[33m[2018-07-23 11:14:38][WARNING] \u001b[37mHPL test failed with residual 1.96e+09 (should be < 16).\u001b[0m\n",
      "\u001b[32m[2018-07-23 11:14:38][INFO] \u001b[37m[director | /root] ssh-keygen -b 2048 -t rsa -f .ssh/id_rsa -q -N \"\"\u001b[0m\n",
      "\u001b[32m[2018-07-23 11:14:38][INFO] \u001b[37m[director] get: /root/.ssh/id_rsa.pub → /home/tom/Dropbox/Documents/Fac/phd/mpi_calibration/tmpu8ujwgjh\u001b[0m\n"
     ]
    },
    {
     "name": "stdout",
     "output_type": "stream",
     "text": [
      "CPU times: user 285 ms, sys: 44.9 ms, total: 330 ms\n",
      "Wall time: 9.37 s\n",
      "3.84 764.0\n"
     ]
    },
    {
     "name": "stderr",
     "output_type": "stream",
     "text": [
      "\u001b[32m[2018-07-23 11:14:39][INFO] \u001b[37m[orchestra] put: /home/tom/Dropbox/Documents/Fac/phd/mpi_calibration/tmpu8ujwgjh → /tmp/id_rsa.pub\u001b[0m\n",
      "\u001b[32m[2018-07-23 11:14:39][INFO] \u001b[37m[orchestra | /root] cat /tmp/id_rsa.pub >> .ssh/authorized_keys\u001b[0m\n",
      "\u001b[32m[2018-07-23 11:14:39][INFO] \u001b[37m[director | /root] ssh -o \"StrictHostKeyChecking no\" grvingt-6.nancy.grid5000.fr hostname\u001b[0m\n",
      "\u001b[32m[2018-07-23 11:14:40][INFO] \u001b[37m[director | /root] ssh -o \"StrictHostKeyChecking no\" grvingt-6 hostname\u001b[0m\n",
      "\u001b[32m[2018-07-23 11:14:40][INFO] \u001b[37m[director | /root] ssh -o \"StrictHostKeyChecking no\" grvingt-7.nancy.grid5000.fr hostname\u001b[0m\n",
      "\u001b[32m[2018-07-23 11:14:40][INFO] \u001b[37m[director | /root] ssh -o \"StrictHostKeyChecking no\" grvingt-7 hostname\u001b[0m\n",
      "\u001b[32m[2018-07-23 11:14:41][INFO] \u001b[37m[director | /root] ssh -o \"StrictHostKeyChecking no\" grvingt-8.nancy.grid5000.fr hostname\u001b[0m\n",
      "\u001b[32m[2018-07-23 11:14:41][INFO] \u001b[37m[director | /root] ssh -o \"StrictHostKeyChecking no\" grvingt-8 hostname\u001b[0m\n",
      "\u001b[32m[2018-07-23 11:14:41][INFO] \u001b[37m[allnodes] put: /home/tom/Dropbox/Documents/Fac/phd/mpi_calibration/tmpip0bm2be → /tmp/hpl-2.2/bin/Debian/HPL.dat\u001b[0m\n",
      "\u001b[32m[2018-07-23 11:14:42][INFO] \u001b[37m[director | /tmp/hpl-2.2/bin/Debian] mpirun --allow-run-as-root --bind-to none --timestamp-output -np 4 -x OMP_NUM_THREADS=32 -H grvingt-5.nancy.grid5000.fr,grvingt-6.nancy.grid5000.fr,grvingt-7.nancy.grid5000.fr,grvingt-8.nancy.grid5000.fr -x LD_LIBRARY_PATH=/tmp/lib ./xhpl\u001b[0m\n",
      "\u001b[33m[2018-07-23 11:14:50][WARNING] \u001b[37mHPL test failed with residual 3.14e+09 (should be < 16).\u001b[0m\n"
     ]
    },
    {
     "name": "stdout",
     "output_type": "stream",
     "text": [
      "CPU times: user 263 ms, sys: 54.7 ms, total: 318 ms\n",
      "Wall time: 9.42 s\n",
      "3.93 746.4\n"
     ]
    }
   ],
   "source": [
    "for job in alljobs:\n",
    "    send_key(job)\n",
    "    %time time, gflops, output = run(job, size=2**14, block_size=512, proc_p=2, proc_q=2, bcast=3, pfact=2, rfact=2, depth=1)\n",
    "    print(time, gflops)"
   ]
  },
  {
   "cell_type": "markdown",
   "metadata": {},
   "source": [
    "## Larger HPL run\n",
    "\n",
    "Now, the performance of `grvingt` and `dahu` are similar. Let's check with a larger size."
   ]
  },
  {
   "cell_type": "code",
   "execution_count": 8,
   "metadata": {},
   "outputs": [
    {
     "name": "stderr",
     "output_type": "stream",
     "text": [
      "\u001b[32m[2018-07-23 11:16:18][INFO] \u001b[37m[allnodes] put: /home/tom/Dropbox/Documents/Fac/phd/mpi_calibration/tmpc1lxcll0 → /tmp/hpl-2.2/bin/Debian/HPL.dat\u001b[0m\n",
      "\u001b[32m[2018-07-23 11:16:19][INFO] \u001b[37m[director | /tmp/hpl-2.2/bin/Debian] mpirun --allow-run-as-root --bind-to none --timestamp-output -np 4 -x OMP_NUM_THREADS=32 -H dahu-6.grenoble.grid5000.fr,dahu-7.grenoble.grid5000.fr,dahu-8.grenoble.grid5000.fr,dahu-9.grenoble.grid5000.fr -x LD_LIBRARY_PATH=/tmp/lib ./xhpl\u001b[0m\n",
      "\u001b[32m[2018-07-23 11:16:54][INFO] \u001b[37m[allnodes] put: /home/tom/Dropbox/Documents/Fac/phd/mpi_calibration/tmpl7uaxndm → /tmp/hpl-2.2/bin/Debian/HPL.dat\u001b[0m\n"
     ]
    },
    {
     "name": "stdout",
     "output_type": "stream",
     "text": [
      "CPU times: user 784 ms, sys: 168 ms, total: 952 ms\n",
      "Wall time: 35.7 s\n"
     ]
    },
    {
     "name": "stderr",
     "output_type": "stream",
     "text": [
      "\u001b[32m[2018-07-23 11:16:55][INFO] \u001b[37m[director | /tmp/hpl-2.2/bin/Debian] mpirun --allow-run-as-root --bind-to none --timestamp-output -np 4 -x OMP_NUM_THREADS=32 -H grvingt-5.nancy.grid5000.fr,grvingt-6.nancy.grid5000.fr,grvingt-7.nancy.grid5000.fr,grvingt-8.nancy.grid5000.fr -x LD_LIBRARY_PATH=/tmp/lib ./xhpl\u001b[0m\n"
     ]
    },
    {
     "name": "stdout",
     "output_type": "stream",
     "text": [
      "CPU times: user 690 ms, sys: 136 ms, total: 825 ms\n",
      "Wall time: 34.6 s\n",
      "dahu (19.48, 1204.0)\n",
      "gr20 (18.2, 1289.0)\n"
     ]
    }
   ],
   "source": [
    "results = {}\n",
    "%time results['dahu'] = run(dahu, size=2**15, block_size=128, proc_p=2, proc_q=2, bcast=3, pfact=2, rfact=2, depth=1)\n",
    "%time results['gr20'] = run(gr20, size=2**15, block_size=128, proc_p=2, proc_q=2, bcast=3, pfact=2, rfact=2, depth=1)\n",
    "\n",
    "print('dahu', results['dahu'][:-1])\n",
    "print('gr20', results['gr20'][:-1])"
   ]
  },
  {
   "cell_type": "markdown",
   "metadata": {},
   "source": [
    "Similar performance too, great!"
   ]
  }
 ],
 "metadata": {
  "kernelspec": {
   "display_name": "Python 3",
   "language": "python",
   "name": "python3"
  },
  "language_info": {
   "codemirror_mode": {
    "name": "ipython",
    "version": 3
   },
   "file_extension": ".py",
   "mimetype": "text/x-python",
   "name": "python",
   "nbconvert_exporter": "python",
   "pygments_lexer": "ipython3",
   "version": "3.6.5"
  }
 },
 "nbformat": 4,
 "nbformat_minor": 2
}

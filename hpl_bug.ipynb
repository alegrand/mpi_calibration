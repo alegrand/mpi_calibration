{
 "cells": [
  {
   "cell_type": "markdown",
   "metadata": {},
   "source": [
    "## Reservation & deployment"
   ]
  },
  {
   "cell_type": "code",
   "execution_count": 1,
   "metadata": {},
   "outputs": [],
   "source": [
    "from fabfile import *\n",
    "from real_hpl import *"
   ]
  },
  {
   "cell_type": "code",
   "execution_count": 2,
   "metadata": {},
   "outputs": [
    {
     "name": "stderr",
     "output_type": "stream",
     "text": [
      "\u001b[32m[2018-07-20 14:34:46][INFO] \u001b[37m[frontend | /home/tocornebize] oarsub -n \"☕\" -q testing -t deploy  -l \"{cluster in ('dahu')}/nodes=4,walltime=04:00:00\" -r \"2018-07-20 14:34:46\"\u001b[0m\n",
      "\u001b[32m[2018-07-20 14:34:49][INFO] \u001b[37m[frontend | /home/tocornebize] oarsub -n \"☕\" -q production -t deploy  -l \"{cluster in ('grvingt')}/nodes=4,walltime=04:00:00\" -r \"2018-07-20 14:34:49\"\u001b[0m\n",
      "\u001b[32m[2018-07-20 14:35:12][INFO] \u001b[37m[frontend | /home/tocornebize] oarstat -fJ -j 1805726\u001b[0m\n",
      "\u001b[32m[2018-07-20 14:35:17][INFO] \u001b[37m[frontend | /home/tocornebize] oarstat -fJ -j 1805726\u001b[0m\n",
      "\u001b[32m[2018-07-20 14:35:28][INFO] \u001b[37m[frontend | /home/tocornebize] oarstat -fJ -j 1805726\u001b[0m\n",
      "\u001b[32m[2018-07-20 14:35:50][INFO] \u001b[37m[frontend | /home/tocornebize] oarstat -fJ -j 1805726\u001b[0m\n",
      "\u001b[32m[2018-07-20 14:36:38][INFO] \u001b[37m[frontend | /home/tocornebize] oarstat -fJ -j 1805726\u001b[0m\n",
      "\u001b[32m[2018-07-20 14:37:45][INFO] \u001b[37m[frontend | /home/tocornebize] oarstat -fJ -j 1805726\u001b[0m\n",
      "\u001b[32m[2018-07-20 14:38:53][INFO] \u001b[37m[frontend | /home/tocornebize] oarstat -fJ -j 1805726\u001b[0m\n",
      "\u001b[32m[2018-07-20 14:38:53][INFO] \u001b[37m[frontend | /home/tocornebize] oarstat -fJ -j 1617657\u001b[0m\n"
     ]
    },
    {
     "name": "stdout",
     "output_type": "stream",
     "text": [
      "['dahu-27.grenoble.grid5000.fr', 'dahu-28.grenoble.grid5000.fr', 'dahu-29.grenoble.grid5000.fr', 'dahu-8.grenoble.grid5000.fr']\n",
      "['grvingt-5.nancy.grid5000.fr', 'grvingt-6.nancy.grid5000.fr', 'grvingt-7.nancy.grid5000.fr', 'grvingt-8.nancy.grid5000.fr']\n"
     ]
    }
   ],
   "source": [
    "nb_nodes = 4\n",
    "dahu = Job.oarsub_cluster(site='grenoble', username='tocornebize', clusters=['dahu'],    walltime=Time(hours=4), nb_nodes=nb_nodes, deploy='debian9-x64-base', queue='testing')\n",
    "gr20 = Job.oarsub_cluster(site='nancy',    username='tocornebize', clusters=['grvingt'], walltime=Time(hours=4), nb_nodes=nb_nodes, deploy='debian9-x64-base', queue='production')\n",
    "\n",
    "alljobs = [dahu, gr20]\n",
    "for job in alljobs:\n",
    "    print(job.hostnames)\n",
    "    if len(job.hostnames) != nb_nodes:\n",
    "        logger.critical('Bad number of nodes')"
   ]
  },
  {
   "cell_type": "code",
   "execution_count": 3,
   "metadata": {},
   "outputs": [
    {
     "name": "stderr",
     "output_type": "stream",
     "text": [
      "\u001b[32m[2018-07-20 14:39:05][INFO] \u001b[37m[frontend | /home/tocornebize] kadeploy3 -k -f /var/lib/oar/1805726 -e debian9-x64-base\u001b[0m\n",
      "\u001b[32m[2018-07-20 14:42:46][INFO] \u001b[37m[frontend | /home/tocornebize] kadeploy3 -k -f /var/lib/oar/1617657 -e debian9-x64-base\u001b[0m\n"
     ]
    }
   ],
   "source": [
    "for job in alljobs:\n",
    "    job.kadeploy(job.deploy)"
   ]
  },
  {
   "cell_type": "code",
   "execution_count": 4,
   "metadata": {},
   "outputs": [
    {
     "name": "stderr",
     "output_type": "stream",
     "text": [
      "\u001b[32m[2018-07-20 14:46:43][INFO] \u001b[37m[allnodes | /tmp] echo \"hello world\"\u001b[0m\n",
      "\u001b[32m[2018-07-20 14:46:43][INFO] \u001b[37m[allnodes | /tmp] apt update && DEBIAN_FRONTEND=noninteractive apt upgrade -yq\u001b[0m\n",
      "\u001b[32m[2018-07-20 14:47:32][INFO] \u001b[37m[allnodes | /tmp] DEBIAN_FRONTEND=noninteractive apt install -y build-essential zip make git time hwloc pciutils cmake cpufrequtils linux-cpupower openmpi-bin libopenmpi-dev net-tools\u001b[0m\n",
      "\u001b[32m[2018-07-20 14:47:56][INFO] \u001b[37m[allnodes | /tmp] wget https://github.com/xianyi/OpenBLAS/archive/v0.3.1.zip -O openblas.zip\u001b[0m\n",
      "\u001b[32m[2018-07-20 14:48:13][INFO] \u001b[37m[allnodes | /tmp] unzip openblas.zip && mv OpenBLAS-* openblas\u001b[0m\n",
      "\u001b[32m[2018-07-20 14:48:19][INFO] \u001b[37m[allnodes | /tmp/openblas] make -j 64\u001b[0m\n",
      "\u001b[32m[2018-07-20 14:48:27][INFO] \u001b[37m[allnodes | /tmp/openblas] make install PREFIX=/tmp\u001b[0m\n",
      "\u001b[32m[2018-07-20 14:48:27][INFO] \u001b[37m[allnodes | /tmp] wget http://www.netlib.org/benchmark/hpl/hpl-2.2.tar.gz\u001b[0m\n",
      "\u001b[32m[2018-07-20 14:48:28][INFO] \u001b[37m[allnodes | /tmp] tar -xvf hpl-2.2.tar.gz\u001b[0m\n",
      "\u001b[32m[2018-07-20 14:48:28][INFO] \u001b[37m[allnodes] put: /home/tom/Dropbox/Documents/Fac/phd/mpi_calibration/tmphlqmp9cn → /tmp/hpl-2.2/Make.Debian\u001b[0m\n",
      "\u001b[32m[2018-07-20 14:48:29][INFO] \u001b[37m[allnodes | /tmp/hpl-2.2] make startup arch=Debian\u001b[0m\n",
      "\u001b[32m[2018-07-20 14:48:29][INFO] \u001b[37m[allnodes | /tmp/hpl-2.2] LD_LIBRARY_PATH=/tmp/lib make -j 64 arch=Debian\u001b[0m\n",
      "\u001b[32m[2018-07-20 14:48:39][INFO] \u001b[37m[allnodes | /tmp] echo \"hello world\"\u001b[0m\n",
      "\u001b[32m[2018-07-20 14:48:40][INFO] \u001b[37m[allnodes | /tmp] apt update && DEBIAN_FRONTEND=noninteractive apt upgrade -yq\u001b[0m\n",
      "\u001b[32m[2018-07-20 14:50:12][INFO] \u001b[37m[allnodes | /tmp] DEBIAN_FRONTEND=noninteractive apt install -y build-essential zip make git time hwloc pciutils cmake cpufrequtils linux-cpupower openmpi-bin libopenmpi-dev net-tools\u001b[0m\n",
      "\u001b[32m[2018-07-20 14:51:18][INFO] \u001b[37m[allnodes | /tmp] wget https://github.com/xianyi/OpenBLAS/archive/v0.3.1.zip -O openblas.zip\u001b[0m\n",
      "\u001b[32m[2018-07-20 14:51:30][INFO] \u001b[37m[allnodes | /tmp] unzip openblas.zip && mv OpenBLAS-* openblas\u001b[0m\n",
      "\u001b[32m[2018-07-20 14:51:36][INFO] \u001b[37m[allnodes | /tmp/openblas] make -j 64\u001b[0m\n",
      "\u001b[32m[2018-07-20 14:51:48][INFO] \u001b[37m[allnodes | /tmp/openblas] make install PREFIX=/tmp\u001b[0m\n",
      "\u001b[32m[2018-07-20 14:51:49][INFO] \u001b[37m[allnodes | /tmp] wget http://www.netlib.org/benchmark/hpl/hpl-2.2.tar.gz\u001b[0m\n",
      "\u001b[32m[2018-07-20 14:51:49][INFO] \u001b[37m[allnodes | /tmp] tar -xvf hpl-2.2.tar.gz\u001b[0m\n",
      "\u001b[32m[2018-07-20 14:51:49][INFO] \u001b[37m[allnodes] put: /home/tom/Dropbox/Documents/Fac/phd/mpi_calibration/tmpv4lbpzpj → /tmp/hpl-2.2/Make.Debian\u001b[0m\n",
      "\u001b[32m[2018-07-20 14:51:50][INFO] \u001b[37m[allnodes | /tmp/hpl-2.2] make startup arch=Debian\u001b[0m\n",
      "\u001b[32m[2018-07-20 14:51:51][INFO] \u001b[37m[allnodes | /tmp/hpl-2.2] LD_LIBRARY_PATH=/tmp/lib make -j 64 arch=Debian\u001b[0m\n"
     ]
    }
   ],
   "source": [
    "for job in alljobs:\n",
    "    install(job)"
   ]
  },
  {
   "cell_type": "markdown",
   "metadata": {},
   "source": [
    "## Performance tuning, estimation of the peak\n",
    "\n",
    "We disable the hyperthreading and the DVFS."
   ]
  },
  {
   "cell_type": "code",
   "execution_count": 5,
   "metadata": {},
   "outputs": [
    {
     "name": "stderr",
     "output_type": "stream",
     "text": [
      "\u001b[32m[2018-07-20 14:51:59][INFO] \u001b[37m[allnodes | /tmp] lstopo topology.xml && cat topology.xml\u001b[0m\n",
      "\u001b[32m[2018-07-20 14:51:59][INFO] \u001b[37m[allnodes | /tmp] echo -n '0' | tee /sys/devices/system/cpu/cpu32/online /sys/devices/system/cpu/cpu34/online /sys/devices/system/cpu/cpu36/online /sys/devices/system/cpu/cpu38/online /sys/devices/system/cpu/cpu40/online /sys/devices/system/cpu/cpu42/online /sys/devices/system/cpu/cpu44/online /sys/devices/system/cpu/cpu46/online /sys/devices/system/cpu/cpu48/online /sys/devices/system/cpu/cpu50/online /sys/devices/system/cpu/cpu52/online /sys/devices/system/cpu/cpu54/online /sys/devices/system/cpu/cpu56/online /sys/devices/system/cpu/cpu58/online /sys/devices/system/cpu/cpu60/online /sys/devices/system/cpu/cpu62/online /sys/devices/system/cpu/cpu33/online /sys/devices/system/cpu/cpu35/online /sys/devices/system/cpu/cpu37/online /sys/devices/system/cpu/cpu39/online /sys/devices/system/cpu/cpu41/online /sys/devices/system/cpu/cpu43/online /sys/devices/system/cpu/cpu45/online /sys/devices/system/cpu/cpu47/online /sys/devices/system/cpu/cpu49/online /sys/devices/system/cpu/cpu51/online /sys/devices/system/cpu/cpu53/online /sys/devices/system/cpu/cpu55/online /sys/devices/system/cpu/cpu57/online /sys/devices/system/cpu/cpu59/online /sys/devices/system/cpu/cpu61/online /sys/devices/system/cpu/cpu63/online\u001b[0m\n",
      "\u001b[32m[2018-07-20 14:52:04][INFO] \u001b[37m[allnodes | /tmp] lstopo topology.xml && cat topology.xml\u001b[0m\n",
      "\u001b[32m[2018-07-20 14:52:04][INFO] \u001b[37m[allnodes | /tmp] echo -n '0' | tee /sys/devices/system/cpu/cpu32/online /sys/devices/system/cpu/cpu34/online /sys/devices/system/cpu/cpu36/online /sys/devices/system/cpu/cpu38/online /sys/devices/system/cpu/cpu40/online /sys/devices/system/cpu/cpu42/online /sys/devices/system/cpu/cpu44/online /sys/devices/system/cpu/cpu46/online /sys/devices/system/cpu/cpu48/online /sys/devices/system/cpu/cpu50/online /sys/devices/system/cpu/cpu52/online /sys/devices/system/cpu/cpu54/online /sys/devices/system/cpu/cpu56/online /sys/devices/system/cpu/cpu58/online /sys/devices/system/cpu/cpu60/online /sys/devices/system/cpu/cpu62/online /sys/devices/system/cpu/cpu33/online /sys/devices/system/cpu/cpu35/online /sys/devices/system/cpu/cpu37/online /sys/devices/system/cpu/cpu39/online /sys/devices/system/cpu/cpu41/online /sys/devices/system/cpu/cpu43/online /sys/devices/system/cpu/cpu45/online /sys/devices/system/cpu/cpu47/online /sys/devices/system/cpu/cpu49/online /sys/devices/system/cpu/cpu51/online /sys/devices/system/cpu/cpu53/online /sys/devices/system/cpu/cpu55/online /sys/devices/system/cpu/cpu57/online /sys/devices/system/cpu/cpu59/online /sys/devices/system/cpu/cpu61/online /sys/devices/system/cpu/cpu63/online\u001b[0m\n"
     ]
    }
   ],
   "source": [
    "for job in alljobs:\n",
    "    job.nodes.disable_hyperthreading()\n",
    "#job.nodes.set_frequency_performance() # ← fail on Dahu, no cpufreq driver\n",
    "#print(job.nodes.frequency_information)\n",
    "#print(job.nodes.current_frequency_information)"
   ]
  },
  {
   "cell_type": "code",
   "execution_count": 6,
   "metadata": {},
   "outputs": [
    {
     "name": "stderr",
     "output_type": "stream",
     "text": [
      "\u001b[32m[2018-07-20 14:52:10][INFO] \u001b[37m[allnodes | /tmp] OMP_NUM_THREADS=32 LD_LIBRARY_PATH=/tmp/lib ./dgemm_test 8192 8192 8192 8192 8192 8192 \u001b[0m\n",
      "\u001b[32m[2018-07-20 14:52:10][INFO] \u001b[37m[allnodes | /tmp] wget https://raw.githubusercontent.com/Ezibenroc/m2_internship_scripts/master/cblas_tests/dgemm_test.c\u001b[0m\n",
      "\u001b[32m[2018-07-20 14:52:11][INFO] \u001b[37m[allnodes | /tmp] LD_LIBRARY_PATH=/tmp/lib gcc -DUSE_OPENBLAS ./dgemm_test.c -fopenmp -I /tmp/include                 /tmp/lib/libopenblas.so -O3 -o ./dgemm_test\u001b[0m\n",
      "\u001b[32m[2018-07-20 14:52:11][INFO] \u001b[37m[allnodes | /tmp] OMP_NUM_THREADS=32 LD_LIBRARY_PATH=/tmp/lib ./dgemm_test 8192 8192 8192 8192 8192 8192 \u001b[0m\n",
      "\u001b[32m[2018-07-20 14:52:15][INFO] \u001b[37m[allnodes | /tmp] OMP_NUM_THREADS=32 LD_LIBRARY_PATH=/tmp/lib ./dgemm_test 8192 8192 8192 8192 8192 8192 \u001b[0m\n",
      "\u001b[32m[2018-07-20 14:52:19][INFO] \u001b[37m[allnodes | /tmp] OMP_NUM_THREADS=32 LD_LIBRARY_PATH=/tmp/lib ./dgemm_test 8192 8192 8192 8192 8192 8192 \u001b[0m\n",
      "\u001b[32m[2018-07-20 14:52:23][INFO] \u001b[37m[allnodes | /tmp] OMP_NUM_THREADS=32 LD_LIBRARY_PATH=/tmp/lib ./dgemm_test 8192 8192 8192 8192 8192 8192 \u001b[0m\n",
      "\u001b[32m[2018-07-20 14:52:27][INFO] \u001b[37m[allnodes | /tmp] OMP_NUM_THREADS=32 LD_LIBRARY_PATH=/tmp/lib ./dgemm_test 8192 8192 8192 8192 8192 8192 \u001b[0m\n",
      "\u001b[32m[2018-07-20 14:52:30][INFO] \u001b[37m[allnodes | /tmp] OMP_NUM_THREADS=32 LD_LIBRARY_PATH=/tmp/lib ./dgemm_test 8192 8192 8192 8192 8192 8192 \u001b[0m\n",
      "\u001b[32m[2018-07-20 14:52:34][INFO] \u001b[37m[allnodes | /tmp] OMP_NUM_THREADS=32 LD_LIBRARY_PATH=/tmp/lib ./dgemm_test 8192 8192 8192 8192 8192 8192 \u001b[0m\n",
      "\u001b[32m[2018-07-20 14:52:38][INFO] \u001b[37m[allnodes | /tmp] OMP_NUM_THREADS=32 LD_LIBRARY_PATH=/tmp/lib ./dgemm_test 8192 8192 8192 8192 8192 8192 \u001b[0m\n",
      "\u001b[32m[2018-07-20 14:52:42][INFO] \u001b[37m[allnodes | /tmp] OMP_NUM_THREADS=32 LD_LIBRARY_PATH=/tmp/lib ./dgemm_test 8192 8192 8192 8192 8192 8192 \u001b[0m\n",
      "\u001b[32m[2018-07-20 14:52:46][INFO] \u001b[37m[allnodes | /tmp] OMP_NUM_THREADS=32 LD_LIBRARY_PATH=/tmp/lib ./dgemm_test 8192 8192 8192 8192 8192 8192 \u001b[0m\n",
      "\u001b[32m[2018-07-20 14:52:49][INFO] \u001b[37m[allnodes | /tmp] OMP_NUM_THREADS=32 LD_LIBRARY_PATH=/tmp/lib ./dgemm_test 8192 8192 8192 8192 8192 8192 \u001b[0m\n"
     ]
    },
    {
     "name": "stdout",
     "output_type": "stream",
     "text": [
      "3433.675135260615\n",
      "3450.571164098867\n",
      "3478.874792167511\n",
      "3456.497521208855\n",
      "3500.4783371049803\n",
      "3462.8572984026814\n",
      "3495.8838839977766\n",
      "3458.973047607286\n",
      "3474.45121580165\n",
      "3467.224895329025\n"
     ]
    },
    {
     "name": "stderr",
     "output_type": "stream",
     "text": [
      "\u001b[32m[2018-07-20 14:52:50][INFO] \u001b[37m[allnodes | /tmp] wget https://raw.githubusercontent.com/Ezibenroc/m2_internship_scripts/master/cblas_tests/dgemm_test.c\u001b[0m\n",
      "\u001b[32m[2018-07-20 14:52:50][INFO] \u001b[37m[allnodes | /tmp] LD_LIBRARY_PATH=/tmp/lib gcc -DUSE_OPENBLAS ./dgemm_test.c -fopenmp -I /tmp/include                 /tmp/lib/libopenblas.so -O3 -o ./dgemm_test\u001b[0m\n",
      "\u001b[32m[2018-07-20 14:52:50][INFO] \u001b[37m[allnodes | /tmp] OMP_NUM_THREADS=32 LD_LIBRARY_PATH=/tmp/lib ./dgemm_test 8192 8192 8192 8192 8192 8192 \u001b[0m\n",
      "\u001b[32m[2018-07-20 14:52:54][INFO] \u001b[37m[allnodes | /tmp] OMP_NUM_THREADS=32 LD_LIBRARY_PATH=/tmp/lib ./dgemm_test 8192 8192 8192 8192 8192 8192 \u001b[0m\n",
      "\u001b[32m[2018-07-20 14:52:58][INFO] \u001b[37m[allnodes | /tmp] OMP_NUM_THREADS=32 LD_LIBRARY_PATH=/tmp/lib ./dgemm_test 8192 8192 8192 8192 8192 8192 \u001b[0m\n",
      "\u001b[32m[2018-07-20 14:53:02][INFO] \u001b[37m[allnodes | /tmp] OMP_NUM_THREADS=32 LD_LIBRARY_PATH=/tmp/lib ./dgemm_test 8192 8192 8192 8192 8192 8192 \u001b[0m\n",
      "\u001b[32m[2018-07-20 14:53:05][INFO] \u001b[37m[allnodes | /tmp] OMP_NUM_THREADS=32 LD_LIBRARY_PATH=/tmp/lib ./dgemm_test 8192 8192 8192 8192 8192 8192 \u001b[0m\n",
      "\u001b[32m[2018-07-20 14:53:09][INFO] \u001b[37m[allnodes | /tmp] OMP_NUM_THREADS=32 LD_LIBRARY_PATH=/tmp/lib ./dgemm_test 8192 8192 8192 8192 8192 8192 \u001b[0m\n",
      "\u001b[32m[2018-07-20 14:53:13][INFO] \u001b[37m[allnodes | /tmp] OMP_NUM_THREADS=32 LD_LIBRARY_PATH=/tmp/lib ./dgemm_test 8192 8192 8192 8192 8192 8192 \u001b[0m\n",
      "\u001b[32m[2018-07-20 14:53:17][INFO] \u001b[37m[allnodes | /tmp] OMP_NUM_THREADS=32 LD_LIBRARY_PATH=/tmp/lib ./dgemm_test 8192 8192 8192 8192 8192 8192 \u001b[0m\n",
      "\u001b[32m[2018-07-20 14:53:20][INFO] \u001b[37m[allnodes | /tmp] OMP_NUM_THREADS=32 LD_LIBRARY_PATH=/tmp/lib ./dgemm_test 8192 8192 8192 8192 8192 8192 \u001b[0m\n",
      "\u001b[32m[2018-07-20 14:53:24][INFO] \u001b[37m[allnodes | /tmp] OMP_NUM_THREADS=32 LD_LIBRARY_PATH=/tmp/lib ./dgemm_test 8192 8192 8192 8192 8192 8192 \u001b[0m\n"
     ]
    },
    {
     "name": "stdout",
     "output_type": "stream",
     "text": [
      "3478.236121485156\n",
      "3478.172460622556\n",
      "3461.808771626366\n",
      "3511.56923152929\n",
      "3499.183366656925\n",
      "3503.427153995062\n",
      "3467.233848417146\n",
      "3511.484980843\n",
      "3476.5503826352915\n",
      "3460.5699661529443\n"
     ]
    }
   ],
   "source": [
    "for job in alljobs:\n",
    "    gflops = [str(estimate_peak(job)) for _ in range(10)]\n",
    "    print('\\n'.join(gflops))"
   ]
  },
  {
   "cell_type": "markdown",
   "metadata": {},
   "source": [
    "## First (small) HPL run"
   ]
  },
  {
   "cell_type": "code",
   "execution_count": 7,
   "metadata": {},
   "outputs": [
    {
     "name": "stderr",
     "output_type": "stream",
     "text": [
      "\u001b[32m[2018-07-20 14:54:17][INFO] \u001b[37m[director | /root] ssh-keygen -b 2048 -t rsa -f .ssh/id_rsa -q -N \"\"\u001b[0m\n",
      "\u001b[32m[2018-07-20 14:54:18][INFO] \u001b[37m[director] get: /root/.ssh/id_rsa.pub → /home/tom/Dropbox/Documents/Fac/phd/mpi_calibration/tmpzgk8lvc7\u001b[0m\n",
      "\u001b[32m[2018-07-20 14:54:18][INFO] \u001b[37m[orchestra] put: /home/tom/Dropbox/Documents/Fac/phd/mpi_calibration/tmpzgk8lvc7 → /tmp/id_rsa.pub\u001b[0m\n",
      "\u001b[32m[2018-07-20 14:54:19][INFO] \u001b[37m[orchestra | /root] cat /tmp/id_rsa.pub >> .ssh/authorized_keys\u001b[0m\n",
      "\u001b[32m[2018-07-20 14:54:19][INFO] \u001b[37m[director | /root] ssh -o \"StrictHostKeyChecking no\" dahu-28.grenoble.grid5000.fr hostname\u001b[0m\n",
      "\u001b[32m[2018-07-20 14:54:19][INFO] \u001b[37m[director | /root] ssh -o \"StrictHostKeyChecking no\" dahu-28 hostname\u001b[0m\n",
      "\u001b[32m[2018-07-20 14:54:19][INFO] \u001b[37m[director | /root] ssh -o \"StrictHostKeyChecking no\" dahu-29.grenoble.grid5000.fr hostname\u001b[0m\n",
      "\u001b[32m[2018-07-20 14:54:20][INFO] \u001b[37m[director | /root] ssh -o \"StrictHostKeyChecking no\" dahu-29 hostname\u001b[0m\n",
      "\u001b[32m[2018-07-20 14:54:20][INFO] \u001b[37m[director | /root] ssh -o \"StrictHostKeyChecking no\" dahu-8.grenoble.grid5000.fr hostname\u001b[0m\n",
      "\u001b[32m[2018-07-20 14:54:20][INFO] \u001b[37m[director | /root] ssh -o \"StrictHostKeyChecking no\" dahu-8 hostname\u001b[0m\n",
      "\u001b[32m[2018-07-20 14:54:21][INFO] \u001b[37m[allnodes] put: /home/tom/Dropbox/Documents/Fac/phd/mpi_calibration/tmpql9ppuh8 → /tmp/hpl-2.2/bin/Debian/HPL.dat\u001b[0m\n",
      "\u001b[32m[2018-07-20 14:54:21][INFO] \u001b[37m[director | /tmp/hpl-2.2/bin/Debian] mpirun --allow-run-as-root --bind-to none --timestamp-output -np 4 -x OMP_NUM_THREADS=32 -H dahu-27.grenoble.grid5000.fr,dahu-28.grenoble.grid5000.fr,dahu-29.grenoble.grid5000.fr,dahu-8.grenoble.grid5000.fr -x LD_LIBRARY_PATH=/tmp/lib ./xhpl\u001b[0m\n",
      "\u001b[33m[2018-07-20 14:54:30][WARNING] \u001b[37mHPL test failed with residual 1.85e+09 (should be < 16).\u001b[0m\n",
      "\u001b[32m[2018-07-20 14:54:30][INFO] \u001b[37m[director | /root] ssh-keygen -b 2048 -t rsa -f .ssh/id_rsa -q -N \"\"\u001b[0m\n",
      "\u001b[32m[2018-07-20 14:54:30][INFO] \u001b[37m[director] get: /root/.ssh/id_rsa.pub → /home/tom/Dropbox/Documents/Fac/phd/mpi_calibration/tmp4hg3lxiq\u001b[0m\n"
     ]
    },
    {
     "name": "stdout",
     "output_type": "stream",
     "text": [
      "CPU times: user 260 ms, sys: 62.5 ms, total: 322 ms\n",
      "Wall time: 9.62 s\n",
      "4.08 718.5\n"
     ]
    },
    {
     "name": "stderr",
     "output_type": "stream",
     "text": [
      "\u001b[32m[2018-07-20 14:54:31][INFO] \u001b[37m[orchestra] put: /home/tom/Dropbox/Documents/Fac/phd/mpi_calibration/tmp4hg3lxiq → /tmp/id_rsa.pub\u001b[0m\n",
      "\u001b[32m[2018-07-20 14:54:31][INFO] \u001b[37m[orchestra | /root] cat /tmp/id_rsa.pub >> .ssh/authorized_keys\u001b[0m\n",
      "\u001b[32m[2018-07-20 14:54:31][INFO] \u001b[37m[director | /root] ssh -o \"StrictHostKeyChecking no\" grvingt-6.nancy.grid5000.fr hostname\u001b[0m\n",
      "\u001b[32m[2018-07-20 14:54:31][INFO] \u001b[37m[director | /root] ssh -o \"StrictHostKeyChecking no\" grvingt-6 hostname\u001b[0m\n",
      "\u001b[32m[2018-07-20 14:54:32][INFO] \u001b[37m[director | /root] ssh -o \"StrictHostKeyChecking no\" grvingt-7.nancy.grid5000.fr hostname\u001b[0m\n",
      "\u001b[32m[2018-07-20 14:54:32][INFO] \u001b[37m[director | /root] ssh -o \"StrictHostKeyChecking no\" grvingt-7 hostname\u001b[0m\n",
      "\u001b[32m[2018-07-20 14:54:32][INFO] \u001b[37m[director | /root] ssh -o \"StrictHostKeyChecking no\" grvingt-8.nancy.grid5000.fr hostname\u001b[0m\n",
      "\u001b[32m[2018-07-20 14:54:33][INFO] \u001b[37m[director | /root] ssh -o \"StrictHostKeyChecking no\" grvingt-8 hostname\u001b[0m\n",
      "\u001b[32m[2018-07-20 14:54:33][INFO] \u001b[37m[allnodes] put: /home/tom/Dropbox/Documents/Fac/phd/mpi_calibration/tmp0xdo_luk → /tmp/hpl-2.2/bin/Debian/HPL.dat\u001b[0m\n",
      "\u001b[32m[2018-07-20 14:54:33][INFO] \u001b[37m[director | /tmp/hpl-2.2/bin/Debian] mpirun --allow-run-as-root --bind-to none --timestamp-output -np 4 -x OMP_NUM_THREADS=32 -H grvingt-5.nancy.grid5000.fr,grvingt-6.nancy.grid5000.fr,grvingt-7.nancy.grid5000.fr,grvingt-8.nancy.grid5000.fr -x LD_LIBRARY_PATH=/tmp/lib ./xhpl\u001b[0m\n",
      "\u001b[33m[2018-07-20 14:54:42][WARNING] \u001b[37mHPL test failed with residual 3.06e+09 (should be < 16).\u001b[0m\n"
     ]
    },
    {
     "name": "stdout",
     "output_type": "stream",
     "text": [
      "CPU times: user 251 ms, sys: 56.2 ms, total: 307 ms\n",
      "Wall time: 9.62 s\n",
      "8.14 360.0\n"
     ]
    }
   ],
   "source": [
    "for job in alljobs:\n",
    "    send_key(job)\n",
    "    %time time, gflops, output = run(job, size=2**14, block_size=512, proc_p=2, proc_q=2, bcast=3, pfact=2, rfact=2, depth=1)\n",
    "    print(time, gflops)"
   ]
  },
  {
   "cell_type": "markdown",
   "metadata": {},
   "source": [
    "## Investigation\n",
    "\n",
    "We saw that both the `dahu` and the `grvingt` nodes have roughly the same performance when running `dgemm`. However, the `grvingt` nodes are about two times slower when running HPL."
   ]
  },
  {
   "cell_type": "code",
   "execution_count": 10,
   "metadata": {},
   "outputs": [
    {
     "name": "stderr",
     "output_type": "stream",
     "text": [
      "\u001b[32m[2018-07-20 15:16:54][INFO] \u001b[37m[allnodes] put: /home/tom/Dropbox/Documents/Fac/phd/mpi_calibration/tmpvqoo8lxf → /tmp/hpl-2.2/bin/Debian/HPL.dat\u001b[0m\n",
      "\u001b[32m[2018-07-20 15:16:54][INFO] \u001b[37m[director | /tmp/hpl-2.2/bin/Debian] mpirun --allow-run-as-root --bind-to none --timestamp-output -np 4 -x OMP_NUM_THREADS=32 -H dahu-27.grenoble.grid5000.fr,dahu-28.grenoble.grid5000.fr,dahu-29.grenoble.grid5000.fr,dahu-8.grenoble.grid5000.fr -x LD_LIBRARY_PATH=/tmp/lib ./xhpl\u001b[0m\n",
      "\u001b[32m[2018-07-20 15:17:30][INFO] \u001b[37m[allnodes] put: /home/tom/Dropbox/Documents/Fac/phd/mpi_calibration/tmpteh0y0ez → /tmp/hpl-2.2/bin/Debian/HPL.dat\u001b[0m\n"
     ]
    },
    {
     "name": "stdout",
     "output_type": "stream",
     "text": [
      "CPU times: user 830 ms, sys: 190 ms, total: 1.02 s\n",
      "Wall time: 36.5 s\n"
     ]
    },
    {
     "name": "stderr",
     "output_type": "stream",
     "text": [
      "\u001b[32m[2018-07-20 15:17:31][INFO] \u001b[37m[director | /tmp/hpl-2.2/bin/Debian] mpirun --allow-run-as-root --bind-to none --timestamp-output -np 4 -x OMP_NUM_THREADS=32 -H grvingt-5.nancy.grid5000.fr,grvingt-6.nancy.grid5000.fr,grvingt-7.nancy.grid5000.fr,grvingt-8.nancy.grid5000.fr -x LD_LIBRARY_PATH=/tmp/lib ./xhpl\u001b[0m\n"
     ]
    },
    {
     "name": "stdout",
     "output_type": "stream",
     "text": [
      "CPU times: user 810 ms, sys: 159 ms, total: 968 ms\n",
      "Wall time: 35 s\n",
      "dahu (20.28, 1157.0)\n",
      "gr20 (39.82, 589.1)\n"
     ]
    }
   ],
   "source": [
    "results = {}\n",
    "%time results['dahu'] = run(dahu, size=2**15, block_size=128, proc_p=2, proc_q=2, bcast=3, pfact=2, rfact=2, depth=1)\n",
    "%time results['gr20'] = run(gr20, size=2**15, block_size=128, proc_p=2, proc_q=2, bcast=3, pfact=2, rfact=2, depth=1)\n",
    "\n",
    "print('dahu', results['dahu'][:-1])\n",
    "print('gr20', results['gr20'][:-1])"
   ]
  },
  {
   "cell_type": "markdown",
   "metadata": {},
   "source": [
    "Alright, this is becoming really weird. The execution for each of the jobs took about 35 seconds from **my laptop side**. However, on **HPL side**, the time reported is 39.82 seconds, which is significantly larger (i.e. certainly not due to a clock drift)."
   ]
  },
  {
   "cell_type": "code",
   "execution_count": 12,
   "metadata": {},
   "outputs": [
    {
     "name": "stdout",
     "output_type": "stream",
     "text": [
      "Fri Jul 20 15:16:55 2018<stdout>:================================================================================\n",
      "Fri Jul 20 15:16:55 2018<stdout>:HPLinpack 2.2  --  High-Performance Linpack benchmark  --   February 24, 2016\n",
      "Fri Jul 20 15:16:55 2018<stdout>:Written by A. Petitet and R. Clint Whaley,  Innovative Computing Laboratory, UTK\n",
      "Fri Jul 20 15:16:55 2018<stdout>:Modified by Piotr Luszczek, Innovative Computing Laboratory, UTK\n",
      "Fri Jul 20 15:16:55 2018<stdout>:Modified by Julien Langou, University of Colorado Denver\n",
      "Fri Jul 20 15:16:55 2018<stdout>:================================================================================\n",
      "Fri Jul 20 15:16:55 2018<stdout>:\n",
      "Fri Jul 20 15:16:55 2018<stdout>:An explanation of the input/output parameters follows:\n",
      "Fri Jul 20 15:16:55 2018<stdout>:T/V    : Wall time / encoded variant.\n",
      "Fri Jul 20 15:16:55 2018<stdout>:N      : The order of the coefficient matrix A.\n",
      "Fri Jul 20 15:16:55 2018<stdout>:NB     : The partitioning blocking factor.\n",
      "Fri Jul 20 15:16:55 2018<stdout>:P      : The number of process rows.\n",
      "Fri Jul 20 15:16:55 2018<stdout>:Q      : The number of process columns.\n",
      "Fri Jul 20 15:16:55 2018<stdout>:Time   : Time in seconds to solve the linear system.\n",
      "Fri Jul 20 15:16:55 2018<stdout>:Gflops : Rate of execution for solving the linear system.\n",
      "Fri Jul 20 15:16:55 2018<stdout>:\n",
      "Fri Jul 20 15:16:55 2018<stdout>:The following parameter values will be used:\n",
      "Fri Jul 20 15:16:55 2018<stdout>:\n",
      "Fri Jul 20 15:16:55 2018<stdout>:N      :   32768 \n",
      "Fri Jul 20 15:16:55 2018<stdout>:NB     :     128 \n",
      "Fri Jul 20 15:16:55 2018<stdout>:PMAP   : Row-major process mapping\n",
      "Fri Jul 20 15:16:55 2018<stdout>:P      :       2 \n",
      "Fri Jul 20 15:16:55 2018<stdout>:Q      :       2 \n",
      "Fri Jul 20 15:16:55 2018<stdout>:PFACT  :   Right \n",
      "Fri Jul 20 15:16:55 2018<stdout>:NBMIN  :       2 \n",
      "Fri Jul 20 15:16:55 2018<stdout>:NDIV   :       2 \n",
      "Fri Jul 20 15:16:55 2018<stdout>:RFACT  :   Right \n",
      "Fri Jul 20 15:16:55 2018<stdout>:BCAST  :  2ringM \n",
      "Fri Jul 20 15:16:55 2018<stdout>:DEPTH  :       1 \n",
      "Fri Jul 20 15:16:55 2018<stdout>:SWAP   : Mix (threshold = 128)\n",
      "Fri Jul 20 15:16:55 2018<stdout>:L1     : transposed form\n",
      "Fri Jul 20 15:16:55 2018<stdout>:U      : transposed form\n",
      "Fri Jul 20 15:16:55 2018<stdout>:EQUIL  : yes\n",
      "Fri Jul 20 15:16:55 2018<stdout>:ALIGN  : 8 double precision words\n",
      "Fri Jul 20 15:16:55 2018<stdout>:\n",
      "Fri Jul 20 15:16:55 2018<stdout>:--------------------------------------------------------------------------------\n",
      "Fri Jul 20 15:16:55 2018<stdout>:\n",
      "Fri Jul 20 15:16:55 2018<stdout>:- The matrix A is randomly generated for each test.\n",
      "Fri Jul 20 15:16:55 2018<stdout>:- The following scaled residual check will be computed:\n",
      "Fri Jul 20 15:16:55 2018<stdout>:      ||Ax-b||_oo / ( eps * ( || x ||_oo * || A ||_oo + || b ||_oo ) * N )\n",
      "Fri Jul 20 15:16:55 2018<stdout>:- The relative machine precision (eps) is taken to be               1.110223e-16\n",
      "Fri Jul 20 15:16:55 2018<stdout>:- Computational tests pass if scaled residuals are less than                16.0\n",
      "Fri Jul 20 15:16:55 2018<stdout>:\n",
      "Fri Jul 20 15:17:21 2018<stdout>:================================================================================\n",
      "Fri Jul 20 15:17:21 2018<stdout>:T/V                N    NB     P     Q               Time                 Gflops\n",
      "Fri Jul 20 15:17:21 2018<stdout>:--------------------------------------------------------------------------------\n",
      "Fri Jul 20 15:17:21 2018<stdout>:WR13R2R2       32768   128     2     2              20.28              1.157e+03\n",
      "Fri Jul 20 15:17:21 2018<stdout>:HPL_pdgesv() start time Fri Jul 20 15:17:01 2018\n",
      "Fri Jul 20 15:17:21 2018<stdout>:\n",
      "Fri Jul 20 15:17:21 2018<stdout>:HPL_pdgesv() end time   Fri Jul 20 15:17:21 2018\n",
      "Fri Jul 20 15:17:21 2018<stdout>:\n",
      "Fri Jul 20 15:17:30 2018<stdout>:--------------------------------------------------------------------------------\n",
      "Fri Jul 20 15:17:30 2018<stdout>:||Ax-b||_oo/(eps*(||A||_oo*||x||_oo+||b||_oo)*N)=        0.0023284 ...... PASSED\n",
      "Fri Jul 20 15:17:30 2018<stdout>:================================================================================\n",
      "Fri Jul 20 15:17:30 2018<stdout>:\n",
      "Fri Jul 20 15:17:30 2018<stdout>:Finished      1 tests with the following results:\n",
      "Fri Jul 20 15:17:30 2018<stdout>:              1 tests completed and passed residual checks,\n",
      "Fri Jul 20 15:17:30 2018<stdout>:              0 tests completed and failed residual checks,\n",
      "Fri Jul 20 15:17:30 2018<stdout>:              0 tests skipped because of illegal input values.\n",
      "Fri Jul 20 15:17:30 2018<stdout>:--------------------------------------------------------------------------------\n",
      "Fri Jul 20 15:17:30 2018<stdout>:\n",
      "Fri Jul 20 15:17:30 2018<stdout>:End of Tests.\n",
      "Fri Jul 20 15:17:30 2018<stdout>:================================================================================\n",
      "\n"
     ]
    }
   ],
   "source": [
    "print(results['dahu'][-1].stdout)"
   ]
  },
  {
   "cell_type": "code",
   "execution_count": 13,
   "metadata": {},
   "outputs": [
    {
     "name": "stdout",
     "output_type": "stream",
     "text": [
      "Fri Jul 20 15:17:31 2018<stdout>:================================================================================\n",
      "Fri Jul 20 15:17:31 2018<stdout>:HPLinpack 2.2  --  High-Performance Linpack benchmark  --   February 24, 2016\n",
      "Fri Jul 20 15:17:31 2018<stdout>:Written by A. Petitet and R. Clint Whaley,  Innovative Computing Laboratory, UTK\n",
      "Fri Jul 20 15:17:31 2018<stdout>:Modified by Piotr Luszczek, Innovative Computing Laboratory, UTK\n",
      "Fri Jul 20 15:17:31 2018<stdout>:Modified by Julien Langou, University of Colorado Denver\n",
      "Fri Jul 20 15:17:31 2018<stdout>:================================================================================\n",
      "Fri Jul 20 15:17:31 2018<stdout>:\n",
      "Fri Jul 20 15:17:31 2018<stdout>:An explanation of the input/output parameters follows:\n",
      "Fri Jul 20 15:17:31 2018<stdout>:T/V    : Wall time / encoded variant.\n",
      "Fri Jul 20 15:17:31 2018<stdout>:N      : The order of the coefficient matrix A.\n",
      "Fri Jul 20 15:17:31 2018<stdout>:NB     : The partitioning blocking factor.\n",
      "Fri Jul 20 15:17:31 2018<stdout>:P      : The number of process rows.\n",
      "Fri Jul 20 15:17:31 2018<stdout>:Q      : The number of process columns.\n",
      "Fri Jul 20 15:17:31 2018<stdout>:Time   : Time in seconds to solve the linear system.\n",
      "Fri Jul 20 15:17:31 2018<stdout>:Gflops : Rate of execution for solving the linear system.\n",
      "Fri Jul 20 15:17:31 2018<stdout>:\n",
      "Fri Jul 20 15:17:31 2018<stdout>:The following parameter values will be used:\n",
      "Fri Jul 20 15:17:31 2018<stdout>:\n",
      "Fri Jul 20 15:17:31 2018<stdout>:N      :   32768 \n",
      "Fri Jul 20 15:17:31 2018<stdout>:NB     :     128 \n",
      "Fri Jul 20 15:17:31 2018<stdout>:PMAP   : Row-major process mapping\n",
      "Fri Jul 20 15:17:31 2018<stdout>:P      :       2 \n",
      "Fri Jul 20 15:17:31 2018<stdout>:Q      :       2 \n",
      "Fri Jul 20 15:17:31 2018<stdout>:PFACT  :   Right \n",
      "Fri Jul 20 15:17:31 2018<stdout>:NBMIN  :       2 \n",
      "Fri Jul 20 15:17:31 2018<stdout>:NDIV   :       2 \n",
      "Fri Jul 20 15:17:31 2018<stdout>:RFACT  :   Right \n",
      "Fri Jul 20 15:17:31 2018<stdout>:BCAST  :  2ringM \n",
      "Fri Jul 20 15:17:31 2018<stdout>:DEPTH  :Fri Jul 20 15:17:31 2018<stdout>:       1 \n",
      "Fri Jul 20 15:17:31 2018<stdout>:SWAP   : Mix (threshold = 128)\n",
      "Fri Jul 20 15:17:31 2018<stdout>:L1     : transposed form\n",
      "Fri Jul 20 15:17:31 2018<stdout>:U      : transposed form\n",
      "Fri Jul 20 15:17:31 2018<stdout>:EQUIL  :Fri Jul 20 15:17:31 2018<stdout>: yes\n",
      "Fri Jul 20 15:17:31 2018<stdout>:ALIGN  : 8 double precision words\n",
      "Fri Jul 20 15:17:31 2018<stdout>:\n",
      "Fri Jul 20 15:17:31 2018<stdout>:--------------------------------------------------------------------------------\n",
      "Fri Jul 20 15:17:31 2018<stdout>:\n",
      "Fri Jul 20 15:17:31 2018<stdout>:- The matrix A is randomly generated for each test.\n",
      "Fri Jul 20 15:17:31 2018<stdout>:- The following scaled residual check will be computed:\n",
      "Fri Jul 20 15:17:31 2018<stdout>:      ||Ax-b||_oo / ( eps * ( || x ||_oo * || A ||_oo + || b ||_oo ) * N )\n",
      "Fri Jul 20 15:17:31 2018<stdout>:- The relative machine precision (eps) is taken to be               1.110223e-16\n",
      "Fri Jul 20 15:17:31 2018<stdout>:- Computational tests pass if scaled residuals are less than                16.0\n",
      "Fri Jul 20 15:17:31 2018<stdout>:\n",
      "Fri Jul 20 15:17:56 2018<stdout>:================================================================================\n",
      "Fri Jul 20 15:17:56 2018<stdout>:T/V                N    NB     P     Q               Time                 Gflops\n",
      "Fri Jul 20 15:17:56 2018<stdout>:--------------------------------------------------------------------------------\n",
      "Fri Jul 20 15:17:56 2018<stdout>:WR13R2R2       32768   128     2     2              39.82              5.891e+02\n",
      "Fri Jul 20 15:17:56 2018<stdout>:HPL_pdgesv() start time Fri Jul 20 15:17:37 2018\n",
      "Fri Jul 20 15:17:56 2018<stdout>:\n",
      "Fri Jul 20 15:17:56 2018<stdout>:HPL_pdgesv() end time   Fri Jul 20 15:17:56 2018\n",
      "Fri Jul 20 15:17:56 2018<stdout>:\n",
      "Fri Jul 20 15:18:05 2018<stdout>:--------------------------------------------------------------------------------\n",
      "Fri Jul 20 15:18:05 2018<stdout>:||Ax-b||_oo/(eps*(||A||_oo*||x||_oo+||b||_oo)*N)=        0.0023284 ...... PASSED\n",
      "Fri Jul 20 15:18:05 2018<stdout>:================================================================================\n",
      "Fri Jul 20 15:18:05 2018<stdout>:\n",
      "Fri Jul 20 15:18:05 2018<stdout>:Finished      1 tests with the following results:\n",
      "Fri Jul 20 15:18:05 2018<stdout>:              1 tests completed and passed residual checks,\n",
      "Fri Jul 20 15:18:05 2018<stdout>:              0 tests completed and failed residual checks,\n",
      "Fri Jul 20 15:18:05 2018<stdout>:              0 tests skipped because of illegal input values.\n",
      "Fri Jul 20 15:18:05 2018<stdout>:--------------------------------------------------------------------------------\n",
      "Fri Jul 20 15:18:05 2018<stdout>:\n",
      "Fri Jul 20 15:18:05 2018<stdout>:End of Tests.\n",
      "Fri Jul 20 15:18:05 2018<stdout>:================================================================================\n",
      "\n"
     ]
    }
   ],
   "source": [
    "print(results['gr20'][-1].stdout)"
   ]
  },
  {
   "cell_type": "markdown",
   "metadata": {},
   "source": [
    "Observing HPL output:\n",
    "- On `dahu`, the program starts at `15:16:55`, the factorization ends at `15:17:21`, hence an upper bound of 26 seconds. Also, `HPL_pdgesv()` lasts for about 20 seconds. The reported time for the factorization alone is 20.28 seconds.\n",
    "- On `gr20`, the program starts at `15:17:31`, the factorization ends at `15:17:56`, hence an upper bound of 25 seconds. Also, `HPL_pdgesv()` lasts for about 19 seconds. The reported time for the factorization alone is 39.82 seconds.\n",
    "\n",
    "There is clearly a contradiction on `grvingt` cluster. The time (and thus the gflops) reported by HPL are wrong here."
   ]
  },
  {
   "cell_type": "markdown",
   "metadata": {},
   "source": [
    "## Platform information"
   ]
  },
  {
   "cell_type": "code",
   "execution_count": 14,
   "metadata": {},
   "outputs": [
    {
     "name": "stderr",
     "output_type": "stream",
     "text": [
      "\u001b[32m[2018-07-20 15:30:08][INFO] \u001b[37m[allnodes | /tmp] uname -r\u001b[0m\n",
      "\u001b[32m[2018-07-20 15:30:08][INFO] \u001b[37m[allnodes | /tmp] cat /proc/version\u001b[0m\n",
      "\u001b[32m[2018-07-20 15:30:08][INFO] \u001b[37m[allnodes | /tmp] gcc -dumpversion\u001b[0m\n",
      "\u001b[32m[2018-07-20 15:30:09][INFO] \u001b[37m[allnodes | /tmp] mpirun --version | head -n 1\u001b[0m\n",
      "\u001b[32m[2018-07-20 15:30:09][INFO] \u001b[37m[allnodes | /tmp] cat /proc/cpuinfo  | grep \"name\"| uniq | cut -d: -f2 \u001b[0m\n",
      "\u001b[32m[2018-07-20 15:30:09][INFO] \u001b[37m[allnodes | /tmp] arp -a\u001b[0m\n"
     ]
    },
    {
     "data": {
      "text/plain": [
       "{'dahu-27.grenoble.grid5000.fr': {'kernel': '4.9.0-6-amd64',\n",
       "  'version': 'Linux version 4.9.0-6-amd64 (debian-kernel@lists.debian.org) (gcc version 6.3.0 20170516 (Debian 6.3.0-18+deb9u1) ) #1 SMP Debian 4.9.88-1+deb9u1 (2018-05-07)',\n",
       "  'gcc': '6.3.0',\n",
       "  'mpi': 'mpirun (Open MPI) 2.0.2',\n",
       "  'cpu': 'Intel(R) Xeon(R) Gold 6130 CPU @ 2.10GHz',\n",
       "  'arp': {'dahu-8.grenoble.grid5000.fr': ['(172.16.20.8) at 3c:fd:fe:54:a6:58 [ether] on enp24s0f0'],\n",
       "   'dahu-29.grenoble.grid5000.fr': ['(172.16.20.29) at 3c:fd:fe:55:dd:c0 [ether] on enp24s0f0'],\n",
       "   'kadeploy.grenoble.grid5000.fr': ['(172.16.31.102) at 00:16:3e:c8:38:51 [ether] on enp24s0f0'],\n",
       "   'fgrenoble.grenoble.grid5000.fr': ['(172.16.31.101) at 00:16:3e:06:dd:61 [ether] on enp24s0f0'],\n",
       "   'dahu-28.grenoble.grid5000.fr': ['(172.16.20.28) at 3c:fd:fe:54:2a:e0 [ether] on enp24s0f0'],\n",
       "   'dns.grenoble.grid5000.fr': ['(172.16.31.110) at 00:16:3e:4f:65:bf [ether] on enp24s0f0'],\n",
       "   'gw.grenoble.grid5000.fr': ['(172.16.31.254) at 00:04:96:1d:09:40 [ether] on enp24s0f0']}},\n",
       " 'dahu-28.grenoble.grid5000.fr': {'kernel': '4.9.0-6-amd64',\n",
       "  'version': 'Linux version 4.9.0-6-amd64 (debian-kernel@lists.debian.org) (gcc version 6.3.0 20170516 (Debian 6.3.0-18+deb9u1) ) #1 SMP Debian 4.9.88-1+deb9u1 (2018-05-07)',\n",
       "  'gcc': '6.3.0',\n",
       "  'mpi': 'mpirun (Open MPI) 2.0.2',\n",
       "  'cpu': 'Intel(R) Xeon(R) Gold 6130 CPU @ 2.10GHz',\n",
       "  'arp': {'dahu-27.grenoble.grid5000.fr': ['(172.16.20.27) at 3c:fd:fe:55:e5:e0 [ether] on enp24s0f0'],\n",
       "   'fgrenoble.grenoble.grid5000.fr': ['(172.16.31.101) at 00:16:3e:06:dd:61 [ether] on enp24s0f0'],\n",
       "   'dns.grenoble.grid5000.fr': ['(172.16.31.110) at 00:16:3e:4f:65:bf [ether] on enp24s0f0'],\n",
       "   'gw.grenoble.grid5000.fr': ['(172.16.31.254) at 00:04:96:1d:09:40 [ether] on enp24s0f0'],\n",
       "   'kadeploy.grenoble.grid5000.fr': ['(172.16.31.102) at 00:16:3e:c8:38:51 [ether] on enp24s0f0']}},\n",
       " 'dahu-29.grenoble.grid5000.fr': {'kernel': '4.9.0-6-amd64',\n",
       "  'version': 'Linux version 4.9.0-6-amd64 (debian-kernel@lists.debian.org) (gcc version 6.3.0 20170516 (Debian 6.3.0-18+deb9u1) ) #1 SMP Debian 4.9.88-1+deb9u1 (2018-05-07)',\n",
       "  'gcc': '6.3.0',\n",
       "  'mpi': 'mpirun (Open MPI) 2.0.2',\n",
       "  'cpu': 'Intel(R) Xeon(R) Gold 6130 CPU @ 2.10GHz',\n",
       "  'arp': {'fgrenoble.grenoble.grid5000.fr': ['(172.16.31.101) at 00:16:3e:06:dd:61 [ether] on enp24s0f0'],\n",
       "   'kadeploy.grenoble.grid5000.fr': ['(172.16.31.102) at 00:16:3e:c8:38:51 [ether] on enp24s0f0'],\n",
       "   'dahu-27.grenoble.grid5000.fr': ['(172.16.20.27) at 3c:fd:fe:55:e5:e0 [ether] on enp24s0f0'],\n",
       "   'dns.grenoble.grid5000.fr': ['(172.16.31.110) at 00:16:3e:4f:65:bf [ether] on enp24s0f0'],\n",
       "   'gw.grenoble.grid5000.fr': ['(172.16.31.254) at 00:04:96:1d:09:40 [ether] on enp24s0f0']}},\n",
       " 'dahu-8.grenoble.grid5000.fr': {'kernel': '4.9.0-6-amd64',\n",
       "  'version': 'Linux version 4.9.0-6-amd64 (debian-kernel@lists.debian.org) (gcc version 6.3.0 20170516 (Debian 6.3.0-18+deb9u1) ) #1 SMP Debian 4.9.88-1+deb9u1 (2018-05-07)',\n",
       "  'gcc': '6.3.0',\n",
       "  'mpi': 'mpirun (Open MPI) 2.0.2',\n",
       "  'cpu': 'Intel(R) Xeon(R) Gold 6130 CPU @ 2.10GHz',\n",
       "  'arp': {'fgrenoble.grenoble.grid5000.fr': ['(172.16.31.101) at 00:16:3e:06:dd:61 [ether] on enp24s0f0'],\n",
       "   'kadeploy.grenoble.grid5000.fr': ['(172.16.31.102) at 00:16:3e:c8:38:51 [ether] on enp24s0f0'],\n",
       "   'dahu-27.grenoble.grid5000.fr': ['(172.16.20.27) at 3c:fd:fe:55:e5:e0 [ether] on enp24s0f0'],\n",
       "   'gw.grenoble.grid5000.fr': ['(172.16.31.254) at 00:04:96:1d:09:40 [ether] on enp24s0f0'],\n",
       "   'dns.grenoble.grid5000.fr': ['(172.16.31.110) at 00:16:3e:4f:65:bf [ether] on enp24s0f0']}},\n",
       " 'site': 'grenoble',\n",
       " 'jobid': 1805726,\n",
       " 'deployment': 'debian9-x64-base',\n",
       " 'command': '/home/tom/.local/share/virtualenvs/mpi_calibration-tfxxshdH/lib/python3.6/site-packages/ipykernel_launcher.py -f /run/user/1000/jupyter/kernel-5bc6a68b-b0d2-49fa-839b-e9f9c5ac55e7.json'}"
      ]
     },
     "execution_count": 14,
     "metadata": {},
     "output_type": "execute_result"
    }
   ],
   "source": [
    "dahu.platform_information()"
   ]
  },
  {
   "cell_type": "code",
   "execution_count": 15,
   "metadata": {},
   "outputs": [
    {
     "name": "stderr",
     "output_type": "stream",
     "text": [
      "\u001b[32m[2018-07-20 15:30:14][INFO] \u001b[37m[allnodes | /tmp] uname -r\u001b[0m\n",
      "\u001b[32m[2018-07-20 15:30:14][INFO] \u001b[37m[allnodes | /tmp] cat /proc/version\u001b[0m\n",
      "\u001b[32m[2018-07-20 15:30:14][INFO] \u001b[37m[allnodes | /tmp] gcc -dumpversion\u001b[0m\n",
      "\u001b[32m[2018-07-20 15:30:14][INFO] \u001b[37m[allnodes | /tmp] mpirun --version | head -n 1\u001b[0m\n",
      "\u001b[32m[2018-07-20 15:30:14][INFO] \u001b[37m[allnodes | /tmp] cat /proc/cpuinfo  | grep \"name\"| uniq | cut -d: -f2 \u001b[0m\n",
      "\u001b[32m[2018-07-20 15:30:15][INFO] \u001b[37m[allnodes | /tmp] arp -a\u001b[0m\n"
     ]
    },
    {
     "data": {
      "text/plain": [
       "{'grvingt-5.nancy.grid5000.fr': {'kernel': '4.9.0-6-amd64',\n",
       "  'version': 'Linux version 4.9.0-6-amd64 (debian-kernel@lists.debian.org) (gcc version 6.3.0 20170516 (Debian 6.3.0-18+deb9u1) ) #1 SMP Debian 4.9.88-1+deb9u1 (2018-05-07)',\n",
       "  'gcc': '6.3.0',\n",
       "  'mpi': 'mpirun (Open MPI) 2.0.2',\n",
       "  'cpu': 'Intel(R) Xeon(R) Gold 6130 CPU @ 2.10GHz',\n",
       "  'arp': {'fnancy.nancy.grid5000.fr': ['(172.16.79.101) at 00:16:3e:6a:bb:1b [ether] on enp24s0f0'],\n",
       "   'kadeploy.nancy.grid5000.fr': ['(172.16.79.102) at 00:16:3e:65:d3:82 [ether] on enp24s0f0'],\n",
       "   'grvingt-7.nancy.grid5000.fr': ['(172.16.76.7) at 3c:fd:fe:57:a7:38 [ether] on enp24s0f0'],\n",
       "   'grvingt-6.nancy.grid5000.fr': ['(172.16.76.6) at 3c:fd:fe:57:a6:d8 [ether] on enp24s0f0'],\n",
       "   'sgravillon2.nancy.grid5000.fr': ['(172.16.79.254) at e8:65:49:cc:e6:7f [ether] on enp24s0f0'],\n",
       "   'grvingt-8.nancy.grid5000.fr': ['(172.16.76.8) at 3c:fd:fe:57:72:98 [ether] on enp24s0f0'],\n",
       "   'dns.nancy.grid5000.fr': ['(172.16.79.106) at 00:16:3e:30:fe:c0 [ether] on enp24s0f0'],\n",
       "   'apt-global.nancy.grid5000.fr': ['(172.16.79.109) at 52:54:00:90:2d:67 [ether] on enp24s0f0']}},\n",
       " 'grvingt-6.nancy.grid5000.fr': {'kernel': '4.9.0-6-amd64',\n",
       "  'version': 'Linux version 4.9.0-6-amd64 (debian-kernel@lists.debian.org) (gcc version 6.3.0 20170516 (Debian 6.3.0-18+deb9u1) ) #1 SMP Debian 4.9.88-1+deb9u1 (2018-05-07)',\n",
       "  'gcc': '6.3.0',\n",
       "  'mpi': 'mpirun (Open MPI) 2.0.2',\n",
       "  'cpu': 'Intel(R) Xeon(R) Gold 6130 CPU @ 2.10GHz',\n",
       "  'arp': {'apt-global.nancy.grid5000.fr': ['(172.16.79.109) at 52:54:00:90:2d:67 [ether] on enp24s0f0'],\n",
       "   'fnancy.nancy.grid5000.fr': ['(172.16.79.101) at 00:16:3e:6a:bb:1b [ether] on enp24s0f0'],\n",
       "   'sgravillon2.nancy.grid5000.fr': ['(172.16.79.254) at e8:65:49:cc:e6:7f [ether] on enp24s0f0'],\n",
       "   'dns.nancy.grid5000.fr': ['(172.16.79.106) at 00:16:3e:30:fe:c0 [ether] on enp24s0f0'],\n",
       "   'grvingt-5.nancy.grid5000.fr': ['(172.16.76.5) at 3c:fd:fe:57:bc:98 [ether] on enp24s0f0'],\n",
       "   'kadeploy.nancy.grid5000.fr': ['(172.16.79.102) at 00:16:3e:65:d3:82 [ether] on enp24s0f0']}},\n",
       " 'grvingt-7.nancy.grid5000.fr': {'kernel': '4.9.0-6-amd64',\n",
       "  'version': 'Linux version 4.9.0-6-amd64 (debian-kernel@lists.debian.org) (gcc version 6.3.0 20170516 (Debian 6.3.0-18+deb9u1) ) #1 SMP Debian 4.9.88-1+deb9u1 (2018-05-07)',\n",
       "  'gcc': '6.3.0',\n",
       "  'mpi': 'mpirun (Open MPI) 2.0.2',\n",
       "  'cpu': 'Intel(R) Xeon(R) Gold 6130 CPU @ 2.10GHz',\n",
       "  'arp': {'dns.nancy.grid5000.fr': ['(172.16.79.106) at 00:16:3e:30:fe:c0 [ether] on enp24s0f0'],\n",
       "   'grvingt-5.nancy.grid5000.fr': ['(172.16.76.5) at 3c:fd:fe:57:bc:98 [ether] on enp24s0f0'],\n",
       "   'apt-global.nancy.grid5000.fr': ['(172.16.79.109) at 52:54:00:90:2d:67 [ether] on enp24s0f0'],\n",
       "   'sgravillon2.nancy.grid5000.fr': ['(172.16.79.254) at e8:65:49:cc:e6:7f [ether] on enp24s0f0'],\n",
       "   'kadeploy.nancy.grid5000.fr': ['(172.16.79.102) at 00:16:3e:65:d3:82 [ether] on enp24s0f0'],\n",
       "   'fnancy.nancy.grid5000.fr': ['(172.16.79.101) at 00:16:3e:6a:bb:1b [ether] on enp24s0f0']}},\n",
       " 'grvingt-8.nancy.grid5000.fr': {'kernel': '4.9.0-6-amd64',\n",
       "  'version': 'Linux version 4.9.0-6-amd64 (debian-kernel@lists.debian.org) (gcc version 6.3.0 20170516 (Debian 6.3.0-18+deb9u1) ) #1 SMP Debian 4.9.88-1+deb9u1 (2018-05-07)',\n",
       "  'gcc': '6.3.0',\n",
       "  'mpi': 'mpirun (Open MPI) 2.0.2',\n",
       "  'cpu': 'Intel(R) Xeon(R) Gold 6130 CPU @ 2.10GHz',\n",
       "  'arp': {'apt-global.nancy.grid5000.fr': ['(172.16.79.109) at 52:54:00:90:2d:67 [ether] on enp24s0f0'],\n",
       "   'grvingt-5.nancy.grid5000.fr': ['(172.16.76.5) at 3c:fd:fe:57:bc:98 [ether] on enp24s0f0'],\n",
       "   'fnancy.nancy.grid5000.fr': ['(172.16.79.101) at 00:16:3e:6a:bb:1b [ether] on enp24s0f0'],\n",
       "   'kadeploy.nancy.grid5000.fr': ['(172.16.79.102) at 00:16:3e:65:d3:82 [ether] on enp24s0f0'],\n",
       "   'sgravillon2.nancy.grid5000.fr': ['(172.16.79.254) at e8:65:49:cc:e6:7f [ether] on enp24s0f0'],\n",
       "   'dns.nancy.grid5000.fr': ['(172.16.79.106) at 00:16:3e:30:fe:c0 [ether] on enp24s0f0']}},\n",
       " 'site': 'nancy',\n",
       " 'jobid': 1617657,\n",
       " 'deployment': 'debian9-x64-base',\n",
       " 'command': '/home/tom/.local/share/virtualenvs/mpi_calibration-tfxxshdH/lib/python3.6/site-packages/ipykernel_launcher.py -f /run/user/1000/jupyter/kernel-5bc6a68b-b0d2-49fa-839b-e9f9c5ac55e7.json'}"
      ]
     },
     "execution_count": 15,
     "metadata": {},
     "output_type": "execute_result"
    }
   ],
   "source": [
    "gr20.platform_information()"
   ]
  },
  {
   "cell_type": "code",
   "execution_count": null,
   "metadata": {},
   "outputs": [],
   "source": []
  }
 ],
 "metadata": {
  "kernelspec": {
   "display_name": "Python 3",
   "language": "python",
   "name": "python3"
  },
  "language_info": {
   "codemirror_mode": {
    "name": "ipython",
    "version": 3
   },
   "file_extension": ".py",
   "mimetype": "text/x-python",
   "name": "python",
   "nbconvert_exporter": "python",
   "pygments_lexer": "ipython3",
   "version": "3.6.5"
  }
 },
 "nbformat": 4,
 "nbformat_minor": 2
}
